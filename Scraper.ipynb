{
 "cells": [
  {
   "cell_type": "code",
   "execution_count": 150,
   "id": "f7a1bf06",
   "metadata": {},
   "outputs": [],
   "source": [
    "import pandas as pd\n",
    "from selenium.webdriver.common.keys import Keys\n",
    "from selenium.webdriver.common.action_chains import ActionChains\n",
    "from selenium.webdriver.support.ui import WebDriverWait\n",
    "from selenium.webdriver.common.by import By\n",
    "from selenium.webdriver.support import expected_conditions as EC\n",
    "from selenium.common.exceptions import NoSuchElementException\n",
    "from selenium import webdriver\n",
    "from selenium.webdriver.chrome.options import Options\n",
    "from webdriver_manager.chrome import ChromeDriverManager\n",
    "from bs4 import BeautifulSoup\n",
    "from datetime import datetime\n",
    "import time\n",
    "import re\n",
    "import logging\n",
    "import traceback\n",
    "import numpy as np\n",
    "from random import randint\n",
    "import sys\n",
    "import itertools\n",
    "from threading import Thread\n",
    "from time import sleep"
   ]
  },
  {
   "cell_type": "code",
   "execution_count": 79,
   "id": "880a3247",
   "metadata": {},
   "outputs": [],
   "source": [
    "driver = webdriver.Chrome()\n",
    "wait = WebDriverWait(driver, 8)"
   ]
  },
  {
   "cell_type": "code",
   "execution_count": 80,
   "id": "56238e06",
   "metadata": {},
   "outputs": [],
   "source": [
    "x = driver.get(\"https://www.google.com/maps/place/Moderna+Museet/@59.3262534,18.084163,17z/data=!4m7!3m6!1s0x465f9d566882083f:0xb219a21a1ce7e697!8m2!3d59.3259716!4d18.0844999!9m1!1b1\")\n",
    "time.sleep(4)"
   ]
  },
  {
   "cell_type": "code",
   "execution_count": 81,
   "id": "e7a59e45",
   "metadata": {},
   "outputs": [],
   "source": [
    "def clearwidgets(x):\n",
    "                menu_bt = wait.until(EC.element_to_be_clickable((By.XPATH, '//*[@id=\"yDmH0d\"]/c-wiz/div/div/div/div[2]/div[1]/div[4]/div[1]/div/button')))  \n",
    "                menu_bt.click()\n",
    "\n",
    "                n_menu_bt = wait.until(EC.element_to_be_clickable((By.XPATH, '//*[@id=\"yDmH0d\"]/c-wiz/div/div/div/div[2]/div[3]/div[2]/div/div[2]/div[1]/div/button')))\n",
    "                m_menu_bt = wait.until(EC.element_to_be_clickable((By.XPATH, '//*[@id=\"yDmH0d\"]/c-wiz/div/div/div/div[2]/div[4]/div[2]/div/div[2]/div[1]/div/button')))\n",
    "                o_menu_bt = wait.until(EC.element_to_be_clickable((By.XPATH, '//*[@id=\"yDmH0d\"]/c-wiz/div/div/div/div[2]/div[5]/div[2]/div[2]/div/div[2]/div[1]/div/button')))\n",
    "\n",
    "                n_menu_bt.click()\n",
    "                m_menu_bt.click()\n",
    "                o_menu_bt.click()\n",
    "\n",
    "                widget = wait.until(EC.element_to_be_clickable((By.XPATH, '//*[@id=\"yDmH0d\"]/c-wiz/div/div/div/div[2]/form/div/button')))  \n",
    "                widget.click()"
   ]
  },
  {
   "cell_type": "code",
   "execution_count": 82,
   "id": "acdf457c",
   "metadata": {},
   "outputs": [],
   "source": [
    "def sorting(x):\n",
    "            drop_menu = wait.until(EC.element_to_be_clickable((By.XPATH, '//*[@id=\"pane\"]/div/div[1]/div/div/div[2]/div[8]/button')))\n",
    "            drop_menu.click()\n",
    "            time.sleep(2)\n",
    "            latest = wait.until(EC.element_to_be_clickable((By.XPATH, '//*[@id=\"action-menu\"]/ul/li[2]')))\n",
    "            latest.click()\n",
    "            time.sleep(2) "
   ]
  },
  {
   "cell_type": "code",
   "execution_count": 159,
   "id": "19a102b8",
   "metadata": {},
   "outputs": [],
   "source": [
    "def scrolling(x):\n",
    "            #Hitta totala antalet recensioner\n",
    "            total_number_of_reviews = driver.find_element(By.XPATH,'//*[@id=\"pane\"]/div/div[1]/div/div/div[2]/div[2]/div/div[2]/div[2]').text.split(\" \")[0:2]\n",
    "            total_number_of_reviews = ''.join(total_number_of_reviews)\n",
    "            total_number_of_reviews = int(total_number_of_reviews)\n",
    "            #Hitta diven för scrollning\n",
    "            scrollable_div = driver.find_element(By.XPATH,'//*[@id=\"pane\"]/div/div[1]/div/div/div[2]') #Kanske om vi går via klassen istället?\n",
    "            #Skapa en kill-switch/timer\n",
    "            sixMinutes = Thread(target=lambda:sleep(400)) # 6 min\n",
    "            sixMinutes.start()\n",
    "            for i in range(0,(round(total_number_of_reviews/10 - 1))): #Här har vi t.ex. 145 iterationer för Moderna Museet (1303/9)\n",
    "                    driver.execute_script('arguments[0].scrollTop = arguments[0].scrollHeight', scrollable_div)\n",
    "                    time.sleep(randint(2,7)*0.7)\n",
    "                    if not sixMinutes.is_alive(): break"
   ]
  },
  {
   "cell_type": "code",
   "execution_count": null,
   "id": "885f3209",
   "metadata": {},
   "outputs": [],
   "source": [
    "def applybs4(x):\n",
    "            response = BeautifulSoup(driver.page_source, 'html.parser')\n",
    "            reviews = response.find_all('div', class_='ODSEW-ShBeI NIyLF-haAclf gm2-body-2')\n",
    "            rev_dict = {'Review Rate': [],\n",
    "                'Review Time': [],\n",
    "                'Review Text' : []}\n",
    "            for review in reviews:\n",
    "                review_rate = review.find('span', class_='ODSEW-ShBeI-H1e3jb')[\"aria-label\"]\n",
    "                review_time = review.find('span',class_='ODSEW-ShBeI-RgZmSc-date').text\n",
    "                review_text = review.find('span',class_='ODSEW-ShBeI-text').text\n",
    "                rev_dict['Review Rate'].append(review_rate)\n",
    "                rev_dict['Review Time'].append(review_time)\n",
    "                rev_dict['Review Text'].append(review_text)  \n",
    "            return(pd.DataFrame(rev_dict))"
   ]
  },
  {
   "cell_type": "code",
   "execution_count": 85,
   "id": "dd05d307",
   "metadata": {},
   "outputs": [],
   "source": [
    "clearwidgets(x)"
   ]
  },
  {
   "cell_type": "code",
   "execution_count": 87,
   "id": "8d4d2538",
   "metadata": {},
   "outputs": [],
   "source": [
    "sorting(x)"
   ]
  },
  {
   "cell_type": "code",
   "execution_count": 90,
   "id": "76c4590b",
   "metadata": {},
   "outputs": [],
   "source": [
    "scrolling(x)"
   ]
  },
  {
   "cell_type": "code",
   "execution_count": 92,
   "id": "5e3b98cd",
   "metadata": {},
   "outputs": [],
   "source": [
    "df = applybs4(x)"
   ]
  },
  {
   "cell_type": "code",
   "execution_count": 93,
   "id": "af7fad7d",
   "metadata": {},
   "outputs": [
    {
     "data": {
      "text/html": [
       "<div>\n",
       "<style scoped>\n",
       "    .dataframe tbody tr th:only-of-type {\n",
       "        vertical-align: middle;\n",
       "    }\n",
       "\n",
       "    .dataframe tbody tr th {\n",
       "        vertical-align: top;\n",
       "    }\n",
       "\n",
       "    .dataframe thead th {\n",
       "        text-align: right;\n",
       "    }\n",
       "</style>\n",
       "<table border=\"1\" class=\"dataframe\">\n",
       "  <thead>\n",
       "    <tr style=\"text-align: right;\">\n",
       "      <th></th>\n",
       "      <th>Review Rate</th>\n",
       "      <th>Review Time</th>\n",
       "      <th>Review Text</th>\n",
       "    </tr>\n",
       "  </thead>\n",
       "  <tbody>\n",
       "    <tr>\n",
       "      <th>0</th>\n",
       "      <td>5 stjärnor</td>\n",
       "      <td>för 2 dagar sedan</td>\n",
       "      <td></td>\n",
       "    </tr>\n",
       "    <tr>\n",
       "      <th>1</th>\n",
       "      <td>5 stjärnor</td>\n",
       "      <td>för 3 dagar sedan</td>\n",
       "      <td></td>\n",
       "    </tr>\n",
       "    <tr>\n",
       "      <th>2</th>\n",
       "      <td>5 stjärnor</td>\n",
       "      <td>för 5 dagar sedan</td>\n",
       "      <td>personalen svarar på frågor. lider av ett synd...</td>\n",
       "    </tr>\n",
       "    <tr>\n",
       "      <th>3</th>\n",
       "      <td>5 stjärnor</td>\n",
       "      <td>för 5 dagar sedan</td>\n",
       "      <td>Me encanto este museo.\\n\\nSi queres conocer má...</td>\n",
       "    </tr>\n",
       "    <tr>\n",
       "      <th>4</th>\n",
       "      <td>5 stjärnor</td>\n",
       "      <td>för 5 dagar sedan</td>\n",
       "      <td></td>\n",
       "    </tr>\n",
       "    <tr>\n",
       "      <th>...</th>\n",
       "      <td>...</td>\n",
       "      <td>...</td>\n",
       "      <td>...</td>\n",
       "    </tr>\n",
       "    <tr>\n",
       "      <th>925</th>\n",
       "      <td>5 stjärnor</td>\n",
       "      <td>för 4 år sedan</td>\n",
       "      <td></td>\n",
       "    </tr>\n",
       "    <tr>\n",
       "      <th>926</th>\n",
       "      <td>4 stjärnor</td>\n",
       "      <td>för 4 år sedan</td>\n",
       "      <td>(Översatt av Google) Vackert och fantastiskt a...</td>\n",
       "    </tr>\n",
       "    <tr>\n",
       "      <th>927</th>\n",
       "      <td>5 stjärnor</td>\n",
       "      <td>för 4 år sedan</td>\n",
       "      <td>(Översatt av Google) så trevligt\\n\\n(Original)...</td>\n",
       "    </tr>\n",
       "    <tr>\n",
       "      <th>928</th>\n",
       "      <td>4 stjärnor</td>\n",
       "      <td>för 4 år sedan</td>\n",
       "      <td></td>\n",
       "    </tr>\n",
       "    <tr>\n",
       "      <th>929</th>\n",
       "      <td>5 stjärnor</td>\n",
       "      <td>för 4 år sedan</td>\n",
       "      <td></td>\n",
       "    </tr>\n",
       "  </tbody>\n",
       "</table>\n",
       "<p>930 rows × 3 columns</p>\n",
       "</div>"
      ],
      "text/plain": [
       "      Review Rate        Review Time  \\\n",
       "0     5 stjärnor   för 2 dagar sedan   \n",
       "1     5 stjärnor   för 3 dagar sedan   \n",
       "2     5 stjärnor   för 5 dagar sedan   \n",
       "3     5 stjärnor   för 5 dagar sedan   \n",
       "4     5 stjärnor   för 5 dagar sedan   \n",
       "..            ...                ...   \n",
       "925   5 stjärnor      för 4 år sedan   \n",
       "926   4 stjärnor      för 4 år sedan   \n",
       "927   5 stjärnor      för 4 år sedan   \n",
       "928   4 stjärnor      för 4 år sedan   \n",
       "929   5 stjärnor      för 4 år sedan   \n",
       "\n",
       "                                           Review Text  \n",
       "0                                                       \n",
       "1                                                       \n",
       "2    personalen svarar på frågor. lider av ett synd...  \n",
       "3    Me encanto este museo.\\n\\nSi queres conocer má...  \n",
       "4                                                       \n",
       "..                                                 ...  \n",
       "925                                                     \n",
       "926  (Översatt av Google) Vackert och fantastiskt a...  \n",
       "927  (Översatt av Google) så trevligt\\n\\n(Original)...  \n",
       "928                                                     \n",
       "929                                                     \n",
       "\n",
       "[930 rows x 3 columns]"
      ]
     },
     "execution_count": 93,
     "metadata": {},
     "output_type": "execute_result"
    }
   ],
   "source": [
    "df #Moderna Muséet"
   ]
  },
  {
   "cell_type": "code",
   "execution_count": 131,
   "id": "c47fa805",
   "metadata": {},
   "outputs": [],
   "source": [
    "driver.close()"
   ]
  },
  {
   "cell_type": "code",
   "execution_count": 136,
   "id": "4487da1c",
   "metadata": {},
   "outputs": [],
   "source": [
    "driver = webdriver.Chrome()\n",
    "wait = WebDriverWait(driver, 8)\n",
    "x = driver.get(\"https://www.google.se/maps/place/Astrid+Lindgrens+V%C3%A4rld/@57.6742381,15.8404989,17z/data=!4m7!3m6!1s0x4659c95d7ddcd843:0xb084684f2c4e701f!8m2!3d57.6742381!4d15.8426876!9m1!1b1\")"
   ]
  },
  {
   "cell_type": "code",
   "execution_count": 137,
   "id": "424b17e3",
   "metadata": {},
   "outputs": [],
   "source": [
    "clearwidgets(x)"
   ]
  },
  {
   "cell_type": "code",
   "execution_count": 139,
   "id": "517bbba0",
   "metadata": {},
   "outputs": [],
   "source": [
    "sorting(x)"
   ]
  },
  {
   "cell_type": "code",
   "execution_count": 155,
   "id": "34ffd26f",
   "metadata": {},
   "outputs": [],
   "source": [
    "scrolling(x)"
   ]
  },
  {
   "cell_type": "code",
   "execution_count": 156,
   "id": "e727e26d",
   "metadata": {},
   "outputs": [],
   "source": [
    "df2 = applybs4(x)"
   ]
  },
  {
   "cell_type": "code",
   "execution_count": 157,
   "id": "14cb82da",
   "metadata": {},
   "outputs": [
    {
     "data": {
      "text/html": [
       "<div>\n",
       "<style scoped>\n",
       "    .dataframe tbody tr th:only-of-type {\n",
       "        vertical-align: middle;\n",
       "    }\n",
       "\n",
       "    .dataframe tbody tr th {\n",
       "        vertical-align: top;\n",
       "    }\n",
       "\n",
       "    .dataframe thead th {\n",
       "        text-align: right;\n",
       "    }\n",
       "</style>\n",
       "<table border=\"1\" class=\"dataframe\">\n",
       "  <thead>\n",
       "    <tr style=\"text-align: right;\">\n",
       "      <th></th>\n",
       "      <th>Review Rate</th>\n",
       "      <th>Review Time</th>\n",
       "      <th>Review Text</th>\n",
       "    </tr>\n",
       "  </thead>\n",
       "  <tbody>\n",
       "    <tr>\n",
       "      <th>0</th>\n",
       "      <td>3 stjärnor</td>\n",
       "      <td>för 4 dagar sedan</td>\n",
       "      <td>Mycket folk och långa köer inne där jag tyckte...</td>\n",
       "    </tr>\n",
       "    <tr>\n",
       "      <th>1</th>\n",
       "      <td>5 stjärnor</td>\n",
       "      <td>för en vecka sedan</td>\n",
       "      <td></td>\n",
       "    </tr>\n",
       "    <tr>\n",
       "      <th>2</th>\n",
       "      <td>5 stjärnor</td>\n",
       "      <td>för en månad sedan</td>\n",
       "      <td>(Översatt av Google) Anledningen till att vi v...</td>\n",
       "    </tr>\n",
       "    <tr>\n",
       "      <th>3</th>\n",
       "      <td>5 stjärnor</td>\n",
       "      <td>för 2 månader sedan</td>\n",
       "      <td></td>\n",
       "    </tr>\n",
       "    <tr>\n",
       "      <th>4</th>\n",
       "      <td>5 stjärnor</td>\n",
       "      <td>för 2 månader sedan</td>\n",
       "      <td></td>\n",
       "    </tr>\n",
       "    <tr>\n",
       "      <th>...</th>\n",
       "      <td>...</td>\n",
       "      <td>...</td>\n",
       "      <td>...</td>\n",
       "    </tr>\n",
       "    <tr>\n",
       "      <th>925</th>\n",
       "      <td>5 stjärnor</td>\n",
       "      <td>för 7 månader sedan</td>\n",
       "      <td>(Översatt av Google) Snyggt presenterade, teat...</td>\n",
       "    </tr>\n",
       "    <tr>\n",
       "      <th>926</th>\n",
       "      <td>5 stjärnor</td>\n",
       "      <td>för 7 månader sedan</td>\n",
       "      <td>Mysig park. Ska besökas igen synd bara med all...</td>\n",
       "    </tr>\n",
       "    <tr>\n",
       "      <th>927</th>\n",
       "      <td>3 stjärnor</td>\n",
       "      <td>för 7 månader sedan</td>\n",
       "      <td>(Översatt av Google) Okej för barn, tråkigt fö...</td>\n",
       "    </tr>\n",
       "    <tr>\n",
       "      <th>928</th>\n",
       "      <td>5 stjärnor</td>\n",
       "      <td>för 7 månader sedan</td>\n",
       "      <td></td>\n",
       "    </tr>\n",
       "    <tr>\n",
       "      <th>929</th>\n",
       "      <td>3 stjärnor</td>\n",
       "      <td>för 7 månader sedan</td>\n",
       "      <td></td>\n",
       "    </tr>\n",
       "  </tbody>\n",
       "</table>\n",
       "<p>930 rows × 3 columns</p>\n",
       "</div>"
      ],
      "text/plain": [
       "      Review Rate          Review Time  \\\n",
       "0     3 stjärnor     för 4 dagar sedan   \n",
       "1     5 stjärnor    för en vecka sedan   \n",
       "2     5 stjärnor    för en månad sedan   \n",
       "3     5 stjärnor   för 2 månader sedan   \n",
       "4     5 stjärnor   för 2 månader sedan   \n",
       "..            ...                  ...   \n",
       "925   5 stjärnor   för 7 månader sedan   \n",
       "926   5 stjärnor   för 7 månader sedan   \n",
       "927   3 stjärnor   för 7 månader sedan   \n",
       "928   5 stjärnor   för 7 månader sedan   \n",
       "929   3 stjärnor   för 7 månader sedan   \n",
       "\n",
       "                                           Review Text  \n",
       "0    Mycket folk och långa köer inne där jag tyckte...  \n",
       "1                                                       \n",
       "2    (Översatt av Google) Anledningen till att vi v...  \n",
       "3                                                       \n",
       "4                                                       \n",
       "..                                                 ...  \n",
       "925  (Översatt av Google) Snyggt presenterade, teat...  \n",
       "926  Mysig park. Ska besökas igen synd bara med all...  \n",
       "927  (Översatt av Google) Okej för barn, tråkigt fö...  \n",
       "928                                                     \n",
       "929                                                     \n",
       "\n",
       "[930 rows x 3 columns]"
      ]
     },
     "execution_count": 157,
     "metadata": {},
     "output_type": "execute_result"
    }
   ],
   "source": [
    "df2 #Astrid Lindgrens Värld"
   ]
  },
  {
   "cell_type": "code",
   "execution_count": null,
   "id": "8a22a7ba",
   "metadata": {},
   "outputs": [],
   "source": []
  }
 ],
 "metadata": {
  "kernelspec": {
   "display_name": "Python 3 (ipykernel)",
   "language": "python",
   "name": "python3"
  },
  "language_info": {
   "codemirror_mode": {
    "name": "ipython",
    "version": 3
   },
   "file_extension": ".py",
   "mimetype": "text/x-python",
   "name": "python",
   "nbconvert_exporter": "python",
   "pygments_lexer": "ipython3",
   "version": "3.8.8"
  }
 },
 "nbformat": 4,
 "nbformat_minor": 5
}
